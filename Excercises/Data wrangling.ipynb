{
 "cells": [
  {
   "cell_type": "markdown",
   "id": "cfdd7182",
   "metadata": {},
   "source": [
    "## This exercise outlines the entire data wrangling process"
   ]
  },
  {
   "cell_type": "markdown",
   "id": "d91675b3",
   "metadata": {},
   "source": [
    "### Gather"
   ]
  },
  {
   "cell_type": "code",
   "execution_count": 1,
   "id": "fd9d3bd0",
   "metadata": {},
   "outputs": [],
   "source": [
    "import zipfile\n",
    "import pandas as pd"
   ]
  },
  {
   "cell_type": "code",
   "execution_count": 2,
   "id": "53738c94",
   "metadata": {},
   "outputs": [],
   "source": [
    "# Extract all contents from zip file\n",
    "with zipfile.ZipFile('archive.zip', 'r') as myzip:\n",
    "    myzip.extractall()"
   ]
  },
  {
   "cell_type": "code",
   "execution_count": 3,
   "id": "3773e594",
   "metadata": {},
   "outputs": [],
   "source": [
    "# Read CSV (comma-separated) file into DataFrame\n",
    "df = pd.read_csv('online-job-postings.csv')"
   ]
  },
  {
   "cell_type": "markdown",
   "id": "eeef9c3b",
   "metadata": {},
   "source": [
    "### Assess"
   ]
  },
  {
   "cell_type": "markdown",
   "id": "e8669560",
   "metadata": {},
   "source": [
    "#### Visual assessment"
   ]
  },
  {
   "cell_type": "code",
   "execution_count": 4,
   "id": "a9eec02f",
   "metadata": {
    "scrolled": true
   },
   "outputs": [
    {
     "data": {
      "text/html": [
       "<div>\n",
       "<style scoped>\n",
       "    .dataframe tbody tr th:only-of-type {\n",
       "        vertical-align: middle;\n",
       "    }\n",
       "\n",
       "    .dataframe tbody tr th {\n",
       "        vertical-align: top;\n",
       "    }\n",
       "\n",
       "    .dataframe thead th {\n",
       "        text-align: right;\n",
       "    }\n",
       "</style>\n",
       "<table border=\"1\" class=\"dataframe\">\n",
       "  <thead>\n",
       "    <tr style=\"text-align: right;\">\n",
       "      <th></th>\n",
       "      <th>jobpost</th>\n",
       "      <th>date</th>\n",
       "      <th>Title</th>\n",
       "      <th>Company</th>\n",
       "      <th>AnnouncementCode</th>\n",
       "      <th>Term</th>\n",
       "      <th>Eligibility</th>\n",
       "      <th>Audience</th>\n",
       "      <th>StartDate</th>\n",
       "      <th>Duration</th>\n",
       "      <th>...</th>\n",
       "      <th>Salary</th>\n",
       "      <th>ApplicationP</th>\n",
       "      <th>OpeningDate</th>\n",
       "      <th>Deadline</th>\n",
       "      <th>Notes</th>\n",
       "      <th>AboutC</th>\n",
       "      <th>Attach</th>\n",
       "      <th>Year</th>\n",
       "      <th>Month</th>\n",
       "      <th>IT</th>\n",
       "    </tr>\n",
       "  </thead>\n",
       "  <tbody>\n",
       "    <tr>\n",
       "      <th>0</th>\n",
       "      <td>AMERIA Investment Consulting Company\\r\\nJOB TI...</td>\n",
       "      <td>Jan 5, 2004</td>\n",
       "      <td>Chief Financial Officer</td>\n",
       "      <td>AMERIA Investment Consulting Company</td>\n",
       "      <td>NaN</td>\n",
       "      <td>NaN</td>\n",
       "      <td>NaN</td>\n",
       "      <td>NaN</td>\n",
       "      <td>NaN</td>\n",
       "      <td>NaN</td>\n",
       "      <td>...</td>\n",
       "      <td>NaN</td>\n",
       "      <td>To apply for this position, please submit a\\r\\...</td>\n",
       "      <td>NaN</td>\n",
       "      <td>26 January 2004</td>\n",
       "      <td>NaN</td>\n",
       "      <td>NaN</td>\n",
       "      <td>NaN</td>\n",
       "      <td>2004</td>\n",
       "      <td>1</td>\n",
       "      <td>False</td>\n",
       "    </tr>\n",
       "    <tr>\n",
       "      <th>1</th>\n",
       "      <td>International Research &amp; Exchanges Board (IREX...</td>\n",
       "      <td>Jan 7, 2004</td>\n",
       "      <td>Full-time Community Connections Intern (paid i...</td>\n",
       "      <td>International Research &amp; Exchanges Board (IREX)</td>\n",
       "      <td>NaN</td>\n",
       "      <td>NaN</td>\n",
       "      <td>NaN</td>\n",
       "      <td>NaN</td>\n",
       "      <td>NaN</td>\n",
       "      <td>3 months</td>\n",
       "      <td>...</td>\n",
       "      <td>NaN</td>\n",
       "      <td>Please submit a cover letter and resume to:\\r\\...</td>\n",
       "      <td>NaN</td>\n",
       "      <td>12 January 2004</td>\n",
       "      <td>NaN</td>\n",
       "      <td>The International Research &amp; Exchanges Board (...</td>\n",
       "      <td>NaN</td>\n",
       "      <td>2004</td>\n",
       "      <td>1</td>\n",
       "      <td>False</td>\n",
       "    </tr>\n",
       "    <tr>\n",
       "      <th>2</th>\n",
       "      <td>Caucasus Environmental NGO Network (CENN)\\r\\nJ...</td>\n",
       "      <td>Jan 7, 2004</td>\n",
       "      <td>Country Coordinator</td>\n",
       "      <td>Caucasus Environmental NGO Network (CENN)</td>\n",
       "      <td>NaN</td>\n",
       "      <td>NaN</td>\n",
       "      <td>NaN</td>\n",
       "      <td>NaN</td>\n",
       "      <td>NaN</td>\n",
       "      <td>Renewable annual contract\\r\\nPOSITION</td>\n",
       "      <td>...</td>\n",
       "      <td>NaN</td>\n",
       "      <td>Please send resume or CV toursula.kazarian@......</td>\n",
       "      <td>NaN</td>\n",
       "      <td>20 January 2004\\r\\nSTART DATE:  February 2004</td>\n",
       "      <td>NaN</td>\n",
       "      <td>The Caucasus Environmental NGO Network is a\\r\\...</td>\n",
       "      <td>NaN</td>\n",
       "      <td>2004</td>\n",
       "      <td>1</td>\n",
       "      <td>False</td>\n",
       "    </tr>\n",
       "    <tr>\n",
       "      <th>3</th>\n",
       "      <td>Manoff Group\\r\\nJOB TITLE:  BCC Specialist\\r\\n...</td>\n",
       "      <td>Jan 7, 2004</td>\n",
       "      <td>BCC Specialist</td>\n",
       "      <td>Manoff Group</td>\n",
       "      <td>NaN</td>\n",
       "      <td>NaN</td>\n",
       "      <td>NaN</td>\n",
       "      <td>NaN</td>\n",
       "      <td>NaN</td>\n",
       "      <td>NaN</td>\n",
       "      <td>...</td>\n",
       "      <td>NaN</td>\n",
       "      <td>Please send cover letter and resume to Amy\\r\\n...</td>\n",
       "      <td>NaN</td>\n",
       "      <td>23 January 2004\\r\\nSTART DATE:  Immediate</td>\n",
       "      <td>NaN</td>\n",
       "      <td>NaN</td>\n",
       "      <td>NaN</td>\n",
       "      <td>2004</td>\n",
       "      <td>1</td>\n",
       "      <td>False</td>\n",
       "    </tr>\n",
       "    <tr>\n",
       "      <th>4</th>\n",
       "      <td>Yerevan Brandy Company\\r\\nJOB TITLE:  Software...</td>\n",
       "      <td>Jan 10, 2004</td>\n",
       "      <td>Software Developer</td>\n",
       "      <td>Yerevan Brandy Company</td>\n",
       "      <td>NaN</td>\n",
       "      <td>NaN</td>\n",
       "      <td>NaN</td>\n",
       "      <td>NaN</td>\n",
       "      <td>NaN</td>\n",
       "      <td>NaN</td>\n",
       "      <td>...</td>\n",
       "      <td>NaN</td>\n",
       "      <td>Successful candidates should submit\\r\\n- CV; \\...</td>\n",
       "      <td>NaN</td>\n",
       "      <td>20 January 2004, 18:00</td>\n",
       "      <td>NaN</td>\n",
       "      <td>NaN</td>\n",
       "      <td>NaN</td>\n",
       "      <td>2004</td>\n",
       "      <td>1</td>\n",
       "      <td>True</td>\n",
       "    </tr>\n",
       "    <tr>\n",
       "      <th>...</th>\n",
       "      <td>...</td>\n",
       "      <td>...</td>\n",
       "      <td>...</td>\n",
       "      <td>...</td>\n",
       "      <td>...</td>\n",
       "      <td>...</td>\n",
       "      <td>...</td>\n",
       "      <td>...</td>\n",
       "      <td>...</td>\n",
       "      <td>...</td>\n",
       "      <td>...</td>\n",
       "      <td>...</td>\n",
       "      <td>...</td>\n",
       "      <td>...</td>\n",
       "      <td>...</td>\n",
       "      <td>...</td>\n",
       "      <td>...</td>\n",
       "      <td>...</td>\n",
       "      <td>...</td>\n",
       "      <td>...</td>\n",
       "      <td>...</td>\n",
       "    </tr>\n",
       "    <tr>\n",
       "      <th>18996</th>\n",
       "      <td>Technolinguistics NGO\\r\\n\\r\\n\\r\\nTITLE:  Senio...</td>\n",
       "      <td>Dec 28, 2015</td>\n",
       "      <td>Senior Creative UX/ UI Designer</td>\n",
       "      <td>Technolinguistics NGO</td>\n",
       "      <td>NaN</td>\n",
       "      <td>Full-time</td>\n",
       "      <td>NaN</td>\n",
       "      <td>NaN</td>\n",
       "      <td>NaN</td>\n",
       "      <td>Long-term</td>\n",
       "      <td>...</td>\n",
       "      <td>Competitive</td>\n",
       "      <td>To apply for this position, please send your\\r...</td>\n",
       "      <td>29 December 2015</td>\n",
       "      <td>28 January 2016</td>\n",
       "      <td>NaN</td>\n",
       "      <td>As a company Technolinguistics has a mandate t...</td>\n",
       "      <td>NaN</td>\n",
       "      <td>2015</td>\n",
       "      <td>12</td>\n",
       "      <td>False</td>\n",
       "    </tr>\n",
       "    <tr>\n",
       "      <th>18997</th>\n",
       "      <td>\"Coca-Cola Hellenic Bottling Company Armenia\" ...</td>\n",
       "      <td>Dec 30, 2015</td>\n",
       "      <td>Category Development Manager</td>\n",
       "      <td>\"Coca-Cola Hellenic Bottling Company Armenia\" ...</td>\n",
       "      <td>NaN</td>\n",
       "      <td>Full-time</td>\n",
       "      <td>All interested professionals.</td>\n",
       "      <td>NaN</td>\n",
       "      <td>ASAP</td>\n",
       "      <td>Long-term with a probation period of 3 months.</td>\n",
       "      <td>...</td>\n",
       "      <td>NaN</td>\n",
       "      <td>All interested candidates are kindly requested...</td>\n",
       "      <td>30 December 2015</td>\n",
       "      <td>20 January 2016</td>\n",
       "      <td>NaN</td>\n",
       "      <td>NaN</td>\n",
       "      <td>NaN</td>\n",
       "      <td>2015</td>\n",
       "      <td>12</td>\n",
       "      <td>False</td>\n",
       "    </tr>\n",
       "    <tr>\n",
       "      <th>18998</th>\n",
       "      <td>\"Coca-Cola Hellenic Bottling Company Armenia\" ...</td>\n",
       "      <td>Dec 30, 2015</td>\n",
       "      <td>Operational Marketing Manager</td>\n",
       "      <td>\"Coca-Cola Hellenic Bottling Company Armenia\" ...</td>\n",
       "      <td>NaN</td>\n",
       "      <td>Full-time</td>\n",
       "      <td>All interested professionals.</td>\n",
       "      <td>NaN</td>\n",
       "      <td>ASAP</td>\n",
       "      <td>Long-term with a probation period of 3 months.</td>\n",
       "      <td>...</td>\n",
       "      <td>NaN</td>\n",
       "      <td>All interested candidates are kindly requested...</td>\n",
       "      <td>30 December 2015</td>\n",
       "      <td>20 January 2016</td>\n",
       "      <td>NaN</td>\n",
       "      <td>NaN</td>\n",
       "      <td>NaN</td>\n",
       "      <td>2015</td>\n",
       "      <td>12</td>\n",
       "      <td>False</td>\n",
       "    </tr>\n",
       "    <tr>\n",
       "      <th>18999</th>\n",
       "      <td>San Lazzaro   LLC\\r\\n\\r\\n\\r\\nTITLE:  Head of O...</td>\n",
       "      <td>Dec 30, 2015</td>\n",
       "      <td>Head of Online Sales Department</td>\n",
       "      <td>San Lazzaro   LLC</td>\n",
       "      <td>NaN</td>\n",
       "      <td>NaN</td>\n",
       "      <td>NaN</td>\n",
       "      <td>NaN</td>\n",
       "      <td>NaN</td>\n",
       "      <td>Long-term</td>\n",
       "      <td>...</td>\n",
       "      <td>Highly competitive</td>\n",
       "      <td>Interested candidates can send their CVs to:\\r...</td>\n",
       "      <td>30 December 2015</td>\n",
       "      <td>29 January 2016</td>\n",
       "      <td>NaN</td>\n",
       "      <td>San Lazzaro LLC works with several internation...</td>\n",
       "      <td>NaN</td>\n",
       "      <td>2015</td>\n",
       "      <td>12</td>\n",
       "      <td>False</td>\n",
       "    </tr>\n",
       "    <tr>\n",
       "      <th>19000</th>\n",
       "      <td>\"Kamurj\" UCO CJSC\\r\\n\\r\\n\\r\\nTITLE:  Lawyer in...</td>\n",
       "      <td>Dec 30, 2015</td>\n",
       "      <td>Lawyer in Legal Department</td>\n",
       "      <td>\"Kamurj\" UCO CJSC</td>\n",
       "      <td>NaN</td>\n",
       "      <td>Full-time</td>\n",
       "      <td>NaN</td>\n",
       "      <td>NaN</td>\n",
       "      <td>NaN</td>\n",
       "      <td>Indefinite</td>\n",
       "      <td>...</td>\n",
       "      <td>NaN</td>\n",
       "      <td>All qualified applicants are encouraged to\\r\\n...</td>\n",
       "      <td>30 December 2015</td>\n",
       "      <td>20 January 2016</td>\n",
       "      <td>NaN</td>\n",
       "      <td>\"Kamurj\" UCO CJSC is providing micro and small...</td>\n",
       "      <td>NaN</td>\n",
       "      <td>2015</td>\n",
       "      <td>12</td>\n",
       "      <td>False</td>\n",
       "    </tr>\n",
       "  </tbody>\n",
       "</table>\n",
       "<p>19001 rows × 24 columns</p>\n",
       "</div>"
      ],
      "text/plain": [
       "                                                 jobpost          date  \\\n",
       "0      AMERIA Investment Consulting Company\\r\\nJOB TI...   Jan 5, 2004   \n",
       "1      International Research & Exchanges Board (IREX...   Jan 7, 2004   \n",
       "2      Caucasus Environmental NGO Network (CENN)\\r\\nJ...   Jan 7, 2004   \n",
       "3      Manoff Group\\r\\nJOB TITLE:  BCC Specialist\\r\\n...   Jan 7, 2004   \n",
       "4      Yerevan Brandy Company\\r\\nJOB TITLE:  Software...  Jan 10, 2004   \n",
       "...                                                  ...           ...   \n",
       "18996  Technolinguistics NGO\\r\\n\\r\\n\\r\\nTITLE:  Senio...  Dec 28, 2015   \n",
       "18997  \"Coca-Cola Hellenic Bottling Company Armenia\" ...  Dec 30, 2015   \n",
       "18998  \"Coca-Cola Hellenic Bottling Company Armenia\" ...  Dec 30, 2015   \n",
       "18999  San Lazzaro   LLC\\r\\n\\r\\n\\r\\nTITLE:  Head of O...  Dec 30, 2015   \n",
       "19000  \"Kamurj\" UCO CJSC\\r\\n\\r\\n\\r\\nTITLE:  Lawyer in...  Dec 30, 2015   \n",
       "\n",
       "                                                   Title  \\\n",
       "0                                Chief Financial Officer   \n",
       "1      Full-time Community Connections Intern (paid i...   \n",
       "2                                    Country Coordinator   \n",
       "3                                         BCC Specialist   \n",
       "4                                     Software Developer   \n",
       "...                                                  ...   \n",
       "18996                    Senior Creative UX/ UI Designer   \n",
       "18997                       Category Development Manager   \n",
       "18998                      Operational Marketing Manager   \n",
       "18999                    Head of Online Sales Department   \n",
       "19000                         Lawyer in Legal Department   \n",
       "\n",
       "                                                 Company AnnouncementCode  \\\n",
       "0                   AMERIA Investment Consulting Company              NaN   \n",
       "1        International Research & Exchanges Board (IREX)              NaN   \n",
       "2              Caucasus Environmental NGO Network (CENN)              NaN   \n",
       "3                                           Manoff Group              NaN   \n",
       "4                                 Yerevan Brandy Company              NaN   \n",
       "...                                                  ...              ...   \n",
       "18996                              Technolinguistics NGO              NaN   \n",
       "18997  \"Coca-Cola Hellenic Bottling Company Armenia\" ...              NaN   \n",
       "18998  \"Coca-Cola Hellenic Bottling Company Armenia\" ...              NaN   \n",
       "18999                                  San Lazzaro   LLC              NaN   \n",
       "19000                                  \"Kamurj\" UCO CJSC              NaN   \n",
       "\n",
       "            Term                    Eligibility Audience StartDate  \\\n",
       "0            NaN                            NaN      NaN       NaN   \n",
       "1            NaN                            NaN      NaN       NaN   \n",
       "2            NaN                            NaN      NaN       NaN   \n",
       "3            NaN                            NaN      NaN       NaN   \n",
       "4            NaN                            NaN      NaN       NaN   \n",
       "...          ...                            ...      ...       ...   \n",
       "18996  Full-time                            NaN      NaN       NaN   \n",
       "18997  Full-time  All interested professionals.      NaN      ASAP   \n",
       "18998  Full-time  All interested professionals.      NaN      ASAP   \n",
       "18999        NaN                            NaN      NaN       NaN   \n",
       "19000  Full-time                            NaN      NaN       NaN   \n",
       "\n",
       "                                             Duration  ...  \\\n",
       "0                                                 NaN  ...   \n",
       "1                                            3 months  ...   \n",
       "2               Renewable annual contract\\r\\nPOSITION  ...   \n",
       "3                                                 NaN  ...   \n",
       "4                                                 NaN  ...   \n",
       "...                                               ...  ...   \n",
       "18996                                       Long-term  ...   \n",
       "18997  Long-term with a probation period of 3 months.  ...   \n",
       "18998  Long-term with a probation period of 3 months.  ...   \n",
       "18999                                       Long-term  ...   \n",
       "19000                                      Indefinite  ...   \n",
       "\n",
       "                   Salary                                       ApplicationP  \\\n",
       "0                     NaN  To apply for this position, please submit a\\r\\...   \n",
       "1                     NaN  Please submit a cover letter and resume to:\\r\\...   \n",
       "2                     NaN  Please send resume or CV toursula.kazarian@......   \n",
       "3                     NaN  Please send cover letter and resume to Amy\\r\\n...   \n",
       "4                     NaN  Successful candidates should submit\\r\\n- CV; \\...   \n",
       "...                   ...                                                ...   \n",
       "18996         Competitive  To apply for this position, please send your\\r...   \n",
       "18997                 NaN  All interested candidates are kindly requested...   \n",
       "18998                 NaN  All interested candidates are kindly requested...   \n",
       "18999  Highly competitive  Interested candidates can send their CVs to:\\r...   \n",
       "19000                 NaN  All qualified applicants are encouraged to\\r\\n...   \n",
       "\n",
       "            OpeningDate                                       Deadline Notes  \\\n",
       "0                   NaN                                26 January 2004   NaN   \n",
       "1                   NaN                                12 January 2004   NaN   \n",
       "2                   NaN  20 January 2004\\r\\nSTART DATE:  February 2004   NaN   \n",
       "3                   NaN      23 January 2004\\r\\nSTART DATE:  Immediate   NaN   \n",
       "4                   NaN                         20 January 2004, 18:00   NaN   \n",
       "...                 ...                                            ...   ...   \n",
       "18996  29 December 2015                                28 January 2016   NaN   \n",
       "18997  30 December 2015                                20 January 2016   NaN   \n",
       "18998  30 December 2015                                20 January 2016   NaN   \n",
       "18999  30 December 2015                                29 January 2016   NaN   \n",
       "19000  30 December 2015                                20 January 2016   NaN   \n",
       "\n",
       "                                                  AboutC Attach  Year Month  \\\n",
       "0                                                    NaN    NaN  2004     1   \n",
       "1      The International Research & Exchanges Board (...    NaN  2004     1   \n",
       "2      The Caucasus Environmental NGO Network is a\\r\\...    NaN  2004     1   \n",
       "3                                                    NaN    NaN  2004     1   \n",
       "4                                                    NaN    NaN  2004     1   \n",
       "...                                                  ...    ...   ...   ...   \n",
       "18996  As a company Technolinguistics has a mandate t...    NaN  2015    12   \n",
       "18997                                                NaN    NaN  2015    12   \n",
       "18998                                                NaN    NaN  2015    12   \n",
       "18999  San Lazzaro LLC works with several internation...    NaN  2015    12   \n",
       "19000  \"Kamurj\" UCO CJSC is providing micro and small...    NaN  2015    12   \n",
       "\n",
       "          IT  \n",
       "0      False  \n",
       "1      False  \n",
       "2      False  \n",
       "3      False  \n",
       "4       True  \n",
       "...      ...  \n",
       "18996  False  \n",
       "18997  False  \n",
       "18998  False  \n",
       "18999  False  \n",
       "19000  False  \n",
       "\n",
       "[19001 rows x 24 columns]"
      ]
     },
     "execution_count": 4,
     "metadata": {},
     "output_type": "execute_result"
    }
   ],
   "source": [
    "df"
   ]
  },
  {
   "cell_type": "markdown",
   "id": "4b662eb4",
   "metadata": {},
   "source": [
    "##### issues\n",
    "- missing values (NaN)\n",
    "- start date inconsistencies"
   ]
  },
  {
   "cell_type": "markdown",
   "id": "255e5f50",
   "metadata": {},
   "source": [
    "#### Programmatic Assessment"
   ]
  },
  {
   "cell_type": "code",
   "execution_count": 5,
   "id": "37155509",
   "metadata": {},
   "outputs": [
    {
     "name": "stdout",
     "output_type": "stream",
     "text": [
      "<class 'pandas.core.frame.DataFrame'>\n",
      "RangeIndex: 19001 entries, 0 to 19000\n",
      "Data columns (total 24 columns):\n",
      " #   Column            Non-Null Count  Dtype \n",
      "---  ------            --------------  ----- \n",
      " 0   jobpost           19001 non-null  object\n",
      " 1   date              19001 non-null  object\n",
      " 2   Title             18973 non-null  object\n",
      " 3   Company           18994 non-null  object\n",
      " 4   AnnouncementCode  1208 non-null   object\n",
      " 5   Term              7676 non-null   object\n",
      " 6   Eligibility       4930 non-null   object\n",
      " 7   Audience          640 non-null    object\n",
      " 8   StartDate         9675 non-null   object\n",
      " 9   Duration          10798 non-null  object\n",
      " 10  Location          18969 non-null  object\n",
      " 11  JobDescription    15109 non-null  object\n",
      " 12  JobRequirment     16479 non-null  object\n",
      " 13  RequiredQual      18517 non-null  object\n",
      " 14  Salary            9622 non-null   object\n",
      " 15  ApplicationP      18941 non-null  object\n",
      " 16  OpeningDate       18295 non-null  object\n",
      " 17  Deadline          18936 non-null  object\n",
      " 18  Notes             2211 non-null   object\n",
      " 19  AboutC            12470 non-null  object\n",
      " 20  Attach            1559 non-null   object\n",
      " 21  Year              19001 non-null  int64 \n",
      " 22  Month             19001 non-null  int64 \n",
      " 23  IT                19001 non-null  bool  \n",
      "dtypes: bool(1), int64(2), object(21)\n",
      "memory usage: 3.4+ MB\n"
     ]
    }
   ],
   "source": [
    "df.info()"
   ]
  },
  {
   "cell_type": "code",
   "execution_count": 6,
   "id": "4e629735",
   "metadata": {},
   "outputs": [
    {
     "data": {
      "text/plain": [
       "jobpost             object\n",
       "date                object\n",
       "Title               object\n",
       "Company             object\n",
       "AnnouncementCode    object\n",
       "Term                object\n",
       "Eligibility         object\n",
       "Audience            object\n",
       "StartDate           object\n",
       "Duration            object\n",
       "Location            object\n",
       "JobDescription      object\n",
       "JobRequirment       object\n",
       "RequiredQual        object\n",
       "Salary              object\n",
       "ApplicationP        object\n",
       "OpeningDate         object\n",
       "Deadline            object\n",
       "Notes               object\n",
       "AboutC              object\n",
       "Attach              object\n",
       "Year                 int64\n",
       "Month                int64\n",
       "IT                    bool\n",
       "dtype: object"
      ]
     },
     "execution_count": 6,
     "metadata": {},
     "output_type": "execute_result"
    }
   ],
   "source": [
    "df.dtypes"
   ]
  },
  {
   "cell_type": "code",
   "execution_count": 7,
   "id": "216fbb12",
   "metadata": {},
   "outputs": [
    {
     "data": {
      "text/plain": [
       "Series([], dtype: int64)"
      ]
     },
     "execution_count": 7,
     "metadata": {},
     "output_type": "execute_result"
    }
   ],
   "source": [
    "df.value_counts()"
   ]
  },
  {
   "cell_type": "markdown",
   "id": "2561476e",
   "metadata": {},
   "source": [
    "- Fix nondescriptive column headers (ApplicationP, AboutC, RequiredQual ... and also JobRequirment)"
   ]
  },
  {
   "cell_type": "code",
   "execution_count": 8,
   "id": "e214bdb6",
   "metadata": {},
   "outputs": [
    {
     "data": {
      "text/plain": [
       "array([nan, 'Immediately', '27 April 2004', ...,\n",
       "       'On/ about 06 March 2015 - 07 June 2016', '21 December 2015',\n",
       "       '18 January 2016'], dtype=object)"
      ]
     },
     "execution_count": 8,
     "metadata": {},
     "output_type": "execute_result"
    }
   ],
   "source": [
    "df.StartDate.unique()"
   ]
  },
  {
   "cell_type": "markdown",
   "id": "e546e0ec",
   "metadata": {},
   "source": [
    "#### More problems with our Dataset\n",
    "Duplicate representation of ear and month data. For tidy, we need oneday, one month and one year so if we can update the data in one place.\n",
    "\n",
    "Two types of observational units in this dataset: job posting data and company data. To make this tidy, we would have two tables: Job Posting data with everything except the AboutC and then a second Company table with only the company column and an About Company column."
   ]
  },
  {
   "cell_type": "markdown",
   "id": "e7e6c505",
   "metadata": {},
   "source": [
    "### Clean\n",
    "\n",
    "#### Define\n",
    "- Select all records in the StartDatecolumn that have varying values, and replace them with \"ASAP\"\n",
    "\n",
    "- Select all Nondescriptive and misspelled column headers, and replace them with full words/ more descriptive words.\n",
    "\n",
    "> we will not bother with replacing the NaN values because of the nature of the dataset.\n",
    "\n",
    "> we don't want spaces in the column headers because we can't access columns using dot notation in pandas."
   ]
  },
  {
   "cell_type": "markdown",
   "id": "1c676685",
   "metadata": {},
   "source": [
    "#### Programmatic cleaning"
   ]
  },
  {
   "cell_type": "markdown",
   "id": "0e255423",
   "metadata": {},
   "source": [
    "#### Issue 1\n",
    "\n",
    "#### Define\n",
    "- Select all Nondescriptive and misspelled column headers, and replace them with full words/ more descriptive words.\""
   ]
  },
  {
   "cell_type": "markdown",
   "id": "8e5e539c",
   "metadata": {},
   "source": [
    "#### Code"
   ]
  },
  {
   "cell_type": "code",
   "execution_count": 9,
   "id": "dc37a010",
   "metadata": {},
   "outputs": [],
   "source": [
    "df_clean = df.copy()"
   ]
  },
  {
   "cell_type": "code",
   "execution_count": 11,
   "id": "7039b20c",
   "metadata": {},
   "outputs": [],
   "source": [
    "df_clean = df.rename(columns = {'ApplicationP' : 'ApplicationProcedure',\n",
    "                                'AboutC' : 'AboutCompany',\n",
    "                                'RequiredQual' : 'RequiredQualifications',\n",
    "                                'JobRequirment' : 'JobRequirement'})"
   ]
  },
  {
   "cell_type": "markdown",
   "id": "a9fe0e15",
   "metadata": {},
   "source": [
    "#### Test"
   ]
  },
  {
   "cell_type": "code",
   "execution_count": 14,
   "id": "740916b0",
   "metadata": {},
   "outputs": [
    {
     "name": "stdout",
     "output_type": "stream",
     "text": [
      "<class 'pandas.core.frame.DataFrame'>\n",
      "RangeIndex: 19001 entries, 0 to 19000\n",
      "Data columns (total 24 columns):\n",
      " #   Column                  Non-Null Count  Dtype \n",
      "---  ------                  --------------  ----- \n",
      " 0   jobpost                 19001 non-null  object\n",
      " 1   date                    19001 non-null  object\n",
      " 2   Title                   18973 non-null  object\n",
      " 3   Company                 18994 non-null  object\n",
      " 4   AnnouncementCode        1208 non-null   object\n",
      " 5   Term                    7676 non-null   object\n",
      " 6   Eligibility             4930 non-null   object\n",
      " 7   Audience                640 non-null    object\n",
      " 8   StartDate               9675 non-null   object\n",
      " 9   Duration                10798 non-null  object\n",
      " 10  Location                18969 non-null  object\n",
      " 11  JobDescription          15109 non-null  object\n",
      " 12  JobRequirement          16479 non-null  object\n",
      " 13  RequiredQualifications  18517 non-null  object\n",
      " 14  Salary                  9622 non-null   object\n",
      " 15  ApplicationProcedure    18941 non-null  object\n",
      " 16  OpeningDate             18295 non-null  object\n",
      " 17  Deadline                18936 non-null  object\n",
      " 18  Notes                   2211 non-null   object\n",
      " 19  AboutCompany            12470 non-null  object\n",
      " 20  Attach                  1559 non-null   object\n",
      " 21  Year                    19001 non-null  int64 \n",
      " 22  Month                   19001 non-null  int64 \n",
      " 23  IT                      19001 non-null  bool  \n",
      "dtypes: bool(1), int64(2), object(21)\n",
      "memory usage: 3.4+ MB\n"
     ]
    }
   ],
   "source": [
    "df_clean.info()"
   ]
  },
  {
   "cell_type": "markdown",
   "id": "8ce4b918",
   "metadata": {},
   "source": [
    "#### Issue 2"
   ]
  },
  {
   "cell_type": "markdown",
   "id": "22862f3f",
   "metadata": {},
   "source": [
    "#### Define"
   ]
  },
  {
   "cell_type": "markdown",
   "id": "b9074157",
   "metadata": {},
   "source": [
    "- Select all records in the StartDatecolumn that have varying values, and replace them with \"ASAP\""
   ]
  },
  {
   "cell_type": "markdown",
   "id": "beddccda",
   "metadata": {},
   "source": [
    "#### Code"
   ]
  },
  {
   "cell_type": "code",
   "execution_count": 15,
   "id": "bf21d86d",
   "metadata": {},
   "outputs": [
    {
     "data": {
      "text/plain": [
       "array([nan, 'Immediately', '27 April 2004', ...,\n",
       "       'On/ about 06 March 2015 - 07 June 2016', '21 December 2015',\n",
       "       '18 January 2016'], dtype=object)"
      ]
     },
     "execution_count": 15,
     "metadata": {},
     "output_type": "execute_result"
    }
   ],
   "source": [
    "df_clean.StartDate.unique()"
   ]
  },
  {
   "cell_type": "code",
   "execution_count": 16,
   "id": "c589755e",
   "metadata": {},
   "outputs": [],
   "source": [
    "asap_list = ['Immediately', 'As soon as possible', 'Upon hiring',\n",
    "             'Immediate', 'Immediate employment', 'As soon as possible.', 'Immediate job opportunity',\n",
    "             '\"Immediate employment, after passing the interview.\"',\n",
    "             'ASAP preferred', 'Employment contract signature date',\n",
    "             'Immediate employment opportunity', 'Immidiately', 'ASA',\n",
    "             'Asap', '\"The position is open immediately but has a flexible start date depending on the candidates earliest availability.\"',\n",
    "             'Immediately upon agreement', '20 November 2014 or ASAP',\n",
    "             'immediately', 'Immediatelly',\n",
    "             '\"Immediately upon selection or no later than November 15, 2009.\"',\n",
    "             'Immediate job opening', 'Immediate hiring', 'Upon selection',\n",
    "             'As soon as practical', 'Immadiate', 'As soon as posible',\n",
    "             'Immediately with 2 months probation period',\n",
    "             '12 November 2012 or ASAP', 'Immediate employment after passing the interview',\n",
    "             'Immediately/ upon agreement', '01 September 2014 or ASAP',\n",
    "             'Immediately or as per agreement', 'as soon as possible',\n",
    "             'As soon as Possible', 'in the nearest future', 'immediate',\n",
    "             '01 April 2014 or ASAP', 'Immidiatly', 'Urgent',\n",
    "             'Immediate or earliest possible', 'Immediate hire',\n",
    "             'Earliest  possible', 'ASAP with 3 months probation period.',\n",
    "             'Immediate employment opportunity.', 'Immediate employment.',\n",
    "             'Immidietly', 'Imminent', 'September 2014 or ASAP', 'Imediately']"
   ]
  },
  {
   "cell_type": "code",
   "execution_count": 19,
   "id": "2d88e617",
   "metadata": {},
   "outputs": [],
   "source": [
    "for phrase in asap_list:\n",
    "    df_clean.StartDate.replace(phrase, 'ASAP', inplace=True)"
   ]
  },
  {
   "cell_type": "markdown",
   "id": "c0b8a054",
   "metadata": {},
   "source": [
    "#### Test"
   ]
  },
  {
   "cell_type": "code",
   "execution_count": 22,
   "id": "0dced032",
   "metadata": {},
   "outputs": [
    {
     "data": {
      "text/plain": [
       "ASAP                 6856\n",
       "01 September 2012      31\n",
       "March 2006             27\n",
       "November 2006          22\n",
       "January 2010           19\n",
       "                     ... \n",
       "Flexible                1\n",
       "11 April 2010           1\n",
       "3-21 July 2006          1\n",
       "07 April 2010           1\n",
       "25 March 2009           1\n",
       "Name: StartDate, Length: 1140, dtype: int64"
      ]
     },
     "execution_count": 22,
     "metadata": {},
     "output_type": "execute_result"
    }
   ],
   "source": [
    "df_clean.StartDate.value_counts()"
   ]
  },
  {
   "cell_type": "code",
   "execution_count": 23,
   "id": "11d5a788",
   "metadata": {},
   "outputs": [],
   "source": [
    "for phrase in asap_list:\n",
    "    assert phrase not in df_clean.StartDate"
   ]
  }
 ],
 "metadata": {
  "kernelspec": {
   "display_name": "Python 3 (ipykernel)",
   "language": "python",
   "name": "python3"
  },
  "language_info": {
   "codemirror_mode": {
    "name": "ipython",
    "version": 3
   },
   "file_extension": ".py",
   "mimetype": "text/x-python",
   "name": "python",
   "nbconvert_exporter": "python",
   "pygments_lexer": "ipython3",
   "version": "3.9.12"
  }
 },
 "nbformat": 4,
 "nbformat_minor": 5
}
