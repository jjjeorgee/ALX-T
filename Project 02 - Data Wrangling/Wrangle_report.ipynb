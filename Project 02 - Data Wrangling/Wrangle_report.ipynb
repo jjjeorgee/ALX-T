{
 "cells": [
  {
   "cell_type": "markdown",
   "id": "428825fb",
   "metadata": {},
   "source": [
    "## Data wrangling and analysis with data from WeRateDogs' twitter page."
   ]
  },
  {
   "cell_type": "markdown",
   "id": "cea9616d",
   "metadata": {},
   "source": [
    "### Intro"
   ]
  },
  {
   "cell_type": "markdown",
   "id": "5167bfab",
   "metadata": {},
   "source": [
    "I started the project with an abstract, detailing what the steps to be taken in completing the project. After which I imported all the necessary libraries needed for the project."
   ]
  },
  {
   "cell_type": "markdown",
   "id": "b679986d",
   "metadata": {},
   "source": [
    "### Gathering"
   ]
  },
  {
   "cell_type": "markdown",
   "id": "a4a5c799",
   "metadata": {},
   "source": [
    "Then I moved on to the gathering phase where I downloaded the twitter_archive_enhanced dataset from Udacity's servers.<br>\n",
    "The second dataset was a .tsv file which needed to be dowloaded programmatically using the requests library. After which I saved the dataset.<br>\n",
    "The third dataset required accessing the twitter API to retrieve the needed data, however I couldn't do this on account of being unable to get a developer account. For this reason, i had to resort to downloading the json.txt file from Udacity's servers. After getting the dataset, I created an empty dictionary to house the data, then read the data line by line into this dictionary with a for loop.<br>"
   ]
  },
  {
   "cell_type": "markdown",
   "id": "da771a8d",
   "metadata": {},
   "source": [
    "### Assessing"
   ]
  },
  {
   "cell_type": "markdown",
   "id": "a82da7f3",
   "metadata": {},
   "source": [
    "This phase involved looking through the dataset for quality and tidiness issues. I applied both visual and programmatic assessments to the datasets, and was able to identify a host of issues which were properly outlined for later cleaning"
   ]
  },
  {
   "cell_type": "markdown",
   "id": "b2edee28",
   "metadata": {},
   "source": [
    "### Cleaning "
   ]
  },
  {
   "cell_type": "markdown",
   "id": "cca3dd7c",
   "metadata": {},
   "source": [
    "This was the most time consuming of all the phases and involved solving the issues outlined in the assessing phase. I applied the Define, Code and Test approach to tackling each of these issues, and was able to successfully solve most of them. While cleaning, I also did a bit of mental analysis, identifying columns which will not be needed and trimming off those columns.\n",
    "\n",
    "After all these were done, the three datasets were merged into one clean dataset."
   ]
  },
  {
   "cell_type": "markdown",
   "id": "340fd0e1",
   "metadata": {},
   "source": [
    "### Storing"
   ]
  },
  {
   "cell_type": "markdown",
   "id": "8cbf4445",
   "metadata": {},
   "source": [
    "This simply involved saving the now cleaned and merged dataset as a .csv file into the computer's memory named \"twitter_archive_master\"."
   ]
  },
  {
   "cell_type": "markdown",
   "id": "6df3507f",
   "metadata": {},
   "source": [
    "### Analyzing and Visualizing"
   ]
  },
  {
   "cell_type": "markdown",
   "id": "161ccc43",
   "metadata": {},
   "source": [
    "The dataset \"twitter-archive_master\" was imported into the variable \"twitter_data\" for analysis. Several insightful questions were raised which were answered in the course of the analysis, and visualizations were created where necessary.\n",
    "\n",
    "These insights are detailed in the report of this project."
   ]
  },
  {
   "cell_type": "markdown",
   "id": "a1975e5d",
   "metadata": {},
   "source": [
    "### Conclusion"
   ]
  },
  {
   "cell_type": "markdown",
   "id": "d70f4046",
   "metadata": {},
   "source": [
    "The purpose of the project was revisited here, and the limitations of the project as well as sources were listed. "
   ]
  }
 ],
 "metadata": {
  "kernelspec": {
   "display_name": "Python 3 (ipykernel)",
   "language": "python",
   "name": "python3"
  },
  "language_info": {
   "codemirror_mode": {
    "name": "ipython",
    "version": 3
   },
   "file_extension": ".py",
   "mimetype": "text/x-python",
   "name": "python",
   "nbconvert_exporter": "python",
   "pygments_lexer": "ipython3",
   "version": "3.9.12"
  }
 },
 "nbformat": 4,
 "nbformat_minor": 5
}
