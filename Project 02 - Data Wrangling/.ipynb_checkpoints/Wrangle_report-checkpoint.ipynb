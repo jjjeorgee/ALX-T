{
 "cells": [
  {
   "cell_type": "markdown",
   "id": "977af717",
   "metadata": {},
   "source": [
    "### Data wrangling and analysis with data from WeRateDogs' twitter page."
   ]
  },
  {
   "cell_type": "markdown",
   "id": "beef787a",
   "metadata": {},
   "source": []
  },
  {
   "cell_type": "markdown",
   "id": "80bedab1",
   "metadata": {},
   "source": []
  },
  {
   "cell_type": "markdown",
   "id": "7e9a0e56",
   "metadata": {},
   "source": []
  },
  {
   "cell_type": "markdown",
   "id": "1424ed59",
   "metadata": {},
   "source": []
  }
 ],
 "metadata": {
  "kernelspec": {
   "display_name": "Python 3 (ipykernel)",
   "language": "python",
   "name": "python3"
  },
  "language_info": {
   "codemirror_mode": {
    "name": "ipython",
    "version": 3
   },
   "file_extension": ".py",
   "mimetype": "text/x-python",
   "name": "python",
   "nbconvert_exporter": "python",
   "pygments_lexer": "ipython3",
   "version": "3.9.12"
  }
 },
 "nbformat": 4,
 "nbformat_minor": 5
}
