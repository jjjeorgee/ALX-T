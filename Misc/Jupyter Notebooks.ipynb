{
 "cells": [
  {
   "cell_type": "markdown",
   "id": "896692fa",
   "metadata": {},
   "source": [
    "#### Headers\n",
    "\n",
    "# eee\n",
    "## eee\n",
    "### eee\n",
    "#### eee"
   ]
  },
  {
   "cell_type": "markdown",
   "id": "753710cf",
   "metadata": {},
   "source": [
    "#### Links\n",
    "\n",
    "[jjjeorge](https://www.Github.com/jjjeorgee)"
   ]
  },
  {
   "cell_type": "markdown",
   "id": "639e30d7",
   "metadata": {},
   "source": [
    "#### Emphasis \n",
    "\n",
    "*poop*\n",
    "**poop**\n"
   ]
  },
  {
   "cell_type": "markdown",
   "id": "f2a918af",
   "metadata": {},
   "source": [
    "#### Code\n",
    "\n",
    "```\n",
    "'ada' * 3\n",
    "\n",
    "```\n",
    "\n"
   ]
  },
  {
   "cell_type": "markdown",
   "id": "596a64d7",
   "metadata": {},
   "source": [
    "#### Math Expressions\n",
    "\n",
    "$$\n",
    "22/2\n",
    "$$"
   ]
  },
  {
   "cell_type": "code",
   "execution_count": null,
   "id": "bc3cb690",
   "metadata": {},
   "outputs": [],
   "source": []
  }
 ],
 "metadata": {
  "kernelspec": {
   "display_name": "Python 3 (ipykernel)",
   "language": "python",
   "name": "python3"
  },
  "language_info": {
   "codemirror_mode": {
    "name": "ipython",
    "version": 3
   },
   "file_extension": ".py",
   "mimetype": "text/x-python",
   "name": "python",
   "nbconvert_exporter": "python",
   "pygments_lexer": "ipython3",
   "version": "3.9.12"
  }
 },
 "nbformat": 4,
 "nbformat_minor": 5
}
