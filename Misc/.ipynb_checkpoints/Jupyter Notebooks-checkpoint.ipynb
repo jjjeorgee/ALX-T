{
 "cells": [
  {
   "cell_type": "markdown",
   "id": "896692fa",
   "metadata": {},
   "source": [
    "Headers\n",
    "\n",
    "# eee\n",
    "\n",
    "## eee\n",
    "\n",
    "### eee"
   ]
  },
  {
   "cell_type": "markdown",
   "id": "25b71f5b",
   "metadata": {},
   "source": [
    "# eee"
   ]
  },
  {
   "cell_type": "markdown",
   "id": "3b94cb44",
   "metadata": {},
   "source": [
    "## eee"
   ]
  },
  {
   "cell_type": "markdown",
   "id": "71aa046e",
   "metadata": {},
   "source": [
    "### eee"
   ]
  },
  {
   "cell_type": "markdown",
   "id": "753710cf",
   "metadata": {},
   "source": [
    "[jjjeorge](https://www.Github.com/jjjeorgee)"
   ]
  },
  {
   "cell_type": "code",
   "execution_count": null,
   "id": "9698fbbd",
   "metadata": {},
   "outputs": [],
   "source": []
  }
 ],
 "metadata": {
  "kernelspec": {
   "display_name": "Python 3 (ipykernel)",
   "language": "python",
   "name": "python3"
  },
  "language_info": {
   "codemirror_mode": {
    "name": "ipython",
    "version": 3
   },
   "file_extension": ".py",
   "mimetype": "text/x-python",
   "name": "python",
   "nbconvert_exporter": "python",
   "pygments_lexer": "ipython3",
   "version": "3.9.12"
  }
 },
 "nbformat": 4,
 "nbformat_minor": 5
}
